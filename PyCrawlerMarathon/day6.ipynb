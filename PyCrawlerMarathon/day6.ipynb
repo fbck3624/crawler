{
 "cells": [
  {
   "cell_type": "code",
   "execution_count": 8,
   "metadata": {},
   "outputs": [
    {
     "name": "stdout",
     "output_type": "stream",
     "text": [
      "{'id': 637938925, 'type': 'answer', 'answer_type': 'normal', 'question': {'type': 'question', 'id': 55493026, 'title': '你们都是怎么学 Python 的？', 'question_type': 'normal', 'created': 1486390229, 'updated_time': 1582533957, 'url': 'https://www.zhihu.com/api/v4/questions/55493026', 'relationship': {}}, 'author': {'id': 'e8c4768eaa41e3749f7e8bc5ac6aa74b', 'url_token': 'Lanyuneet', 'name': 'Slumbers', 'avatar_url': 'https://pic2.zhimg.com/v2-f950cfef511d33500177be90030dcd3d_is.jpg', 'avatar_url_template': 'https://pic2.zhimg.com/v2-f950cfef511d33500177be90030dcd3d_{size}.jpg', 'is_org': False, 'type': 'people', 'url': 'https://www.zhihu.com/api/v4/people/e8c4768eaa41e3749f7e8bc5ac6aa74b', 'user_type': 'people', 'headline': '算法工程师', 'badge': [], 'badge_v2': {'title': '', 'merged_badges': [], 'detail_badges': []}, 'gender': 0, 'is_advertiser': False, 'is_privacy': False}, 'url': 'https://www.zhihu.com/api/v4/answers/637938925', 'is_collapsed': False, 'created_time': 1554085028, 'updated_time': 1558451618, 'extras': '', 'is_copyable': True, 'relationship': {'upvoted_followees': []}, 'ad_answer': None}\n",
      "{'id': 683070334, 'type': 'answer', 'answer_type': 'normal', 'question': {'type': 'question', 'id': 55493026, 'title': '你们都是怎么学 Python 的？', 'question_type': 'normal', 'created': 1486390229, 'updated_time': 1582533957, 'url': 'https://www.zhihu.com/api/v4/questions/55493026', 'relationship': {}}, 'author': {'id': '36f69162230003d316d0b8a6d8da20ba', 'url_token': 'liang-zi-wei-48', 'name': '量子位', 'avatar_url': 'https://pic4.zhimg.com/v2-ca6e7ffc10a0d10edbae635cee82d007_is.jpg', 'avatar_url_template': 'https://pic4.zhimg.com/v2-ca6e7ffc10a0d10edbae635cee82d007_{size}.jpg', 'is_org': True, 'type': 'people', 'url': 'https://www.zhihu.com/api/v4/people/36f69162230003d316d0b8a6d8da20ba', 'user_type': 'organization', 'headline': '有趣的AI&amp;前沿科技→_→ 公众号：QbitAI', 'badge': [{'type': 'identity', 'description': '已认证的官方帐号', 'topics': []}, {'type': 'best_answerer', 'description': '优秀回答者', 'topics': []}], 'badge_v2': {'title': '已认证的官方帐号', 'merged_badges': [{'type': 'identity', 'detail_type': 'identity', 'title': '认证', 'description': '已认证的官方帐号', 'url': 'https://www.zhihu.com/account/verification/intro', 'sources': []}, {'type': 'best', 'detail_type': 'best', 'title': '优秀认证', 'description': '科研、人工智能话题下的优秀回答者', 'url': 'https://www.zhihu.com/topic/20054793', 'sources': [{'id': '19556895', 'token': '19556895', 'type': 'topic', 'url': 'https://www.zhihu.com/topic/19556895', 'name': '科研', 'avatar_path': 'v2-f94b3093434c09b4501b056d142025e0', 'avatar_url': 'https://pic2.zhimg.com/v2-f94b3093434c09b4501b056d142025e0_hd.jpg', 'description': ''}, {'id': '19551275', 'token': '19551275', 'type': 'topic', 'url': 'https://www.zhihu.com/topic/19551275', 'name': '人工智能', 'avatar_path': 'v2-c41d10d22173d515740c43c70f885705', 'avatar_url': 'https://pic2.zhimg.com/v2-c41d10d22173d515740c43c70f885705_hd.jpg', 'description': ''}]}], 'detail_badges': [{'type': 'identity', 'detail_type': 'identity_org', 'title': '已认证的官方帐号', 'description': '已认证的官方帐号', 'url': 'https://www.zhihu.com/account/verification/intro', 'sources': []}, {'type': 'best', 'detail_type': 'best_answerer', 'title': '优秀回答者', 'description': '科研、人工智能话题下的优秀回答者', 'url': 'https://www.zhihu.com/topic/20054793', 'sources': [{'id': '19556895', 'token': '19556895', 'type': 'topic', 'url': 'https://www.zhihu.com/topic/19556895', 'name': '科研', 'avatar_path': 'v2-f94b3093434c09b4501b056d142025e0', 'avatar_url': 'https://pic2.zhimg.com/v2-f94b3093434c09b4501b056d142025e0_hd.jpg', 'description': ''}, {'id': '19551275', 'token': '19551275', 'type': 'topic', 'url': 'https://www.zhihu.com/topic/19551275', 'name': '人工智能', 'avatar_path': 'v2-c41d10d22173d515740c43c70f885705', 'avatar_url': 'https://pic2.zhimg.com/v2-c41d10d22173d515740c43c70f885705_hd.jpg', 'description': ''}]}]}, 'gender': -1, 'is_advertiser': False, 'is_privacy': False}, 'url': 'https://www.zhihu.com/api/v4/answers/683070334', 'is_collapsed': False, 'created_time': 1557824412, 'updated_time': 1557824412, 'extras': '', 'is_copyable': True, 'relationship': {'upvoted_followees': []}, 'ad_answer': None}\n",
      "{'id': 1106818911, 'type': 'answer', 'answer_type': 'paid', 'question': {'type': 'question', 'id': 55493026, 'title': '你们都是怎么学 Python 的？', 'question_type': 'normal', 'created': 1486390229, 'updated_time': 1582533957, 'url': 'https://www.zhihu.com/api/v4/questions/55493026', 'relationship': {}}, 'author': {'id': '1ab00059f301920f1dae9d92386937e6', 'url_token': 'zhi-hu-ke-tang', 'name': '知乎课堂', 'avatar_url': 'https://pic4.zhimg.com/v2-7e2770be649e098dd01dd69116c2c8d6_is.jpg', 'avatar_url_template': 'https://pic4.zhimg.com/v2-7e2770be649e098dd01dd69116c2c8d6_{size}.jpg', 'is_org': True, 'type': 'people', 'url': 'https://www.zhihu.com/api/v4/people/1ab00059f301920f1dae9d92386937e6', 'user_type': 'organization', 'headline': '欢迎关注公众号：知乎职场圈，每天解锁一个新技能。', 'badge': [{'type': 'identity', 'description': '已认证的官方帐号', 'topics': []}], 'badge_v2': {'title': '已认证的官方帐号', 'merged_badges': [{'type': 'identity', 'detail_type': 'identity', 'title': '认证', 'description': '已认证的官方帐号', 'url': 'https://www.zhihu.com/account/verification/intro', 'sources': []}], 'detail_badges': [{'type': 'identity', 'detail_type': 'identity_org', 'title': '已认证的官方帐号', 'description': '已认证的官方帐号', 'url': 'https://www.zhihu.com/account/verification/intro', 'sources': []}]}, 'gender': -1, 'is_advertiser': True, 'is_privacy': False}, 'url': 'https://www.zhihu.com/api/v4/answers/1106818911', 'is_collapsed': False, 'created_time': 1585227854, 'updated_time': 1585227854, 'extras': '', 'is_copyable': False, 'relationship': {'upvoted_followees': []}, 'ad_answer': None}\n",
      "{'id': 163537026, 'type': 'answer', 'answer_type': 'normal', 'question': {'type': 'question', 'id': 55493026, 'title': '你们都是怎么学 Python 的？', 'question_type': 'normal', 'created': 1486390229, 'updated_time': 1582533957, 'url': 'https://www.zhihu.com/api/v4/questions/55493026', 'relationship': {}}, 'author': {'id': 'eaf435b228ce0b038a4afe8203f59b49', 'url_token': 'sgai', 'name': '路人甲', 'avatar_url': 'https://pic3.zhimg.com/958a18f3216805bed269d158fb83325a_is.jpg', 'avatar_url_template': 'https://pic3.zhimg.com/958a18f3216805bed269d158fb83325a_{size}.jpg', 'is_org': False, 'type': 'people', 'url': 'https://www.zhihu.com/api/v4/people/eaf435b228ce0b038a4afe8203f59b49', 'user_type': 'people', 'headline': '微信公众号：路人甲TM，微信：thisnozy', 'badge': [], 'badge_v2': {'title': '', 'merged_badges': [], 'detail_badges': []}, 'gender': 1, 'is_advertiser': False, 'is_privacy': False}, 'url': 'https://www.zhihu.com/api/v4/answers/163537026', 'is_collapsed': False, 'created_time': 1493693113, 'updated_time': 1579138388, 'extras': '', 'is_copyable': True, 'relationship': {'upvoted_followees': []}, 'ad_answer': None}\n",
      "{'id': 873825546, 'type': 'answer', 'answer_type': 'normal', 'question': {'type': 'question', 'id': 55493026, 'title': '你们都是怎么学 Python 的？', 'question_type': 'normal', 'created': 1486390229, 'updated_time': 1582533957, 'url': 'https://www.zhihu.com/api/v4/questions/55493026', 'relationship': {}}, 'author': {'id': '4d1c2c77bc7431c2a6006d154198e8b9', 'url_token': 'ji-de-yao-xing-fu', 'name': '痴海', 'avatar_url': 'https://pic3.zhimg.com/v2-f9642b41b7729c029c6c7978c4c019e8_is.jpg', 'avatar_url_template': 'https://pic3.zhimg.com/v2-f9642b41b7729c029c6c7978c4c019e8_{size}.jpg', 'is_org': False, 'type': 'people', 'url': 'https://www.zhihu.com/api/v4/people/4d1c2c77bc7431c2a6006d154198e8b9', 'user_type': 'people', 'headline': '公众号「痴海」: 一起向上成长，成为一个厉害的人', 'badge': [], 'badge_v2': {'title': '', 'merged_badges': [], 'detail_badges': []}, 'gender': 1, 'is_advertiser': False, 'is_privacy': False}, 'url': 'https://www.zhihu.com/api/v4/answers/873825546', 'is_collapsed': False, 'created_time': 1572318426, 'updated_time': 1587220473, 'extras': '', 'is_copyable': False, 'relationship': {'upvoted_followees': []}, 'ad_answer': None}\n"
     ]
    }
   ],
   "source": [
    "import requests\n",
    "headers = {'user-agent': 'my-app/0.0.1'}\n",
    "r = requests.get('https://www.zhihu.com/api/v4/questions/55493026/answers',headers=headers)\n",
    "response = r.text\n",
    "\n",
    "\n",
    "import json\n",
    "data = json.loads(response)\n",
    "\n",
    "for d in data['data']:\n",
    "    print(d)"
   ]
  },
  {
   "cell_type": "code",
   "execution_count": 4,
   "metadata": {},
   "outputs": [
    {
     "data": {
      "text/plain": [
       "'<html>\\r\\n<head><title>400 Bad Request</title></head>\\r\\n<body bgcolor=\"white\">\\r\\n<center><h1>400 Bad Request</h1></center>\\r\\n<hr><center>openresty</center>\\r\\n</body>\\r\\n</html>\\r\\n'"
      ]
     },
     "execution_count": 4,
     "metadata": {},
     "output_type": "execute_result"
    }
   ],
   "source": [
    "# 載入函式庫\n",
    "import requests \n",
    "# 發送請求\n",
    "r = requests.get('https://www.zhihu.com/api/v4/questions/55493026/answers') \n",
    "# 取回請求的回覆\n",
    "response = r.text\n",
    "response"
   ]
  },
  {
   "cell_type": "code",
   "execution_count": 11,
   "metadata": {},
   "outputs": [
    {
     "data": {
      "text/plain": [
       "'{\"data\":[{\"id\":637938925,\"type\":\"answer\",\"answer_type\":\"normal\",\"question\":{\"type\":\"question\",\"id\":55493026,\"title\":\"你们都是怎么学 Python 的？\",\"question_type\":\"normal\",\"created\":1486390229,\"updated_time\":1582533957,\"url\":\"https://www.zhihu.com/api/v4/questions/55493026\",\"relationship\":{}},\"author\":{\"id\":\"e8c4768eaa41e3749f7e8bc5ac6aa74b\",\"url_token\":\"Lanyuneet\",\"name\":\"Slumbers\",\"avatar_url\":\"https://pic2.zhimg.com/v2-f950cfef511d33500177be90030dcd3d_is.jpg\",\"avatar_url_template\":\"https://pic2.zhimg.com/v2-f950cfef511d33500177be90030dcd3d_{size}.jpg\",\"is_org\":false,\"type\":\"people\",\"url\":\"https://www.zhihu.com/api/v4/people/e8c4768eaa41e3749f7e8bc5ac6aa74b\",\"user_type\":\"people\",\"headline\":\"算法工程师\",\"badge\":[],\"badge_v2\":{\"title\":\"\",\"merged_badges\":[],\"detail_badges\":[]},\"gender\":0,\"is_advertiser\":false,\"is_privacy\":false},\"url\":\"https://www.zhihu.com/api/v4/answers/637938925\",\"is_collapsed\":false,\"created_time\":1554085028,\"updated_time\":1558451618,\"extras\":\"\",\"is_copyable\":true,\"relationship\":{\"upvoted_followees\":[]},\"ad_answer\":null},{\"id\":683070334,\"type\":\"answer\",\"answer_type\":\"normal\",\"question\":{\"type\":\"question\",\"id\":55493026,\"title\":\"你们都是怎么学 Python 的？\",\"question_type\":\"normal\",\"created\":1486390229,\"updated_time\":1582533957,\"url\":\"https://www.zhihu.com/api/v4/questions/55493026\",\"relationship\":{}},\"author\":{\"id\":\"36f69162230003d316d0b8a6d8da20ba\",\"url_token\":\"liang-zi-wei-48\",\"name\":\"量子位\",\"avatar_url\":\"https://pic4.zhimg.com/v2-ca6e7ffc10a0d10edbae635cee82d007_is.jpg\",\"avatar_url_template\":\"https://pic4.zhimg.com/v2-ca6e7ffc10a0d10edbae635cee82d007_{size}.jpg\",\"is_org\":true,\"type\":\"people\",\"url\":\"https://www.zhihu.com/api/v4/people/36f69162230003d316d0b8a6d8da20ba\",\"user_type\":\"organization\",\"headline\":\"有趣的AI\\\\u0026amp;前沿科技→_→ 公众号：QbitAI\",\"badge\":[{\"type\":\"identity\",\"description\":\"已认证的官方帐号\",\"topics\":[]},{\"type\":\"best_answerer\",\"description\":\"优秀回答者\",\"topics\":[]}],\"badge_v2\":{\"title\":\"已认证的官方帐号\",\"merged_badges\":[{\"type\":\"identity\",\"detail_type\":\"identity\",\"title\":\"认证\",\"description\":\"已认证的官方帐号\",\"url\":\"https://www.zhihu.com/account/verification/intro\",\"sources\":[]},{\"type\":\"best\",\"detail_type\":\"best\",\"title\":\"优秀认证\",\"description\":\"科研、人工智能话题下的优秀回答者\",\"url\":\"https://www.zhihu.com/topic/20054793\",\"sources\":[{\"id\":\"19556895\",\"token\":\"19556895\",\"type\":\"topic\",\"url\":\"https://www.zhihu.com/topic/19556895\",\"name\":\"科研\",\"avatar_path\":\"0f1bfbb2e2e2cbf6fa87bb501c7b3c30\",\"avatar_url\":\"https://pic1.zhimg.com/0f1bfbb2e2e2cbf6fa87bb501c7b3c30_hd.jpg\",\"description\":\"\"},{\"id\":\"19551275\",\"token\":\"19551275\",\"type\":\"topic\",\"url\":\"https://www.zhihu.com/topic/19551275\",\"name\":\"人工智能\",\"avatar_path\":\"13e388fe4\",\"avatar_url\":\"https://pic3.zhimg.com/13e388fe4_hd.jpg\",\"description\":\"\"}]}],\"detail_badges\":[{\"type\":\"identity\",\"detail_type\":\"identity_org\",\"title\":\"已认证的官方帐号\",\"description\":\"已认证的官方帐号\",\"url\":\"https://www.zhihu.com/account/verification/intro\",\"sources\":[]},{\"type\":\"best\",\"detail_type\":\"best_answerer\",\"title\":\"优秀回答者\",\"description\":\"科研、人工智能话题下的优秀回答者\",\"url\":\"https://www.zhihu.com/topic/20054793\",\"sources\":[{\"id\":\"19556895\",\"token\":\"19556895\",\"type\":\"topic\",\"url\":\"https://www.zhihu.com/topic/19556895\",\"name\":\"科研\",\"avatar_path\":\"0f1bfbb2e2e2cbf6fa87bb501c7b3c30\",\"avatar_url\":\"https://pic1.zhimg.com/0f1bfbb2e2e2cbf6fa87bb501c7b3c30_hd.jpg\",\"description\":\"\"},{\"id\":\"19551275\",\"token\":\"19551275\",\"type\":\"topic\",\"url\":\"https://www.zhihu.com/topic/19551275\",\"name\":\"人工智能\",\"avatar_path\":\"13e388fe4\",\"avatar_url\":\"https://pic3.zhimg.com/13e388fe4_hd.jpg\",\"description\":\"\"}]}]},\"gender\":-1,\"is_advertiser\":false,\"is_privacy\":false},\"url\":\"https://www.zhihu.com/api/v4/answers/683070334\",\"is_collapsed\":false,\"created_time\":1557824412,\"updated_time\":1557824412,\"extras\":\"\",\"is_copyable\":true,\"relationship\":{\"upvoted_followees\":[]},\"ad_answer\":null},{\"id\":1106818911,\"type\":\"answer\",\"answer_type\":\"paid\",\"question\":{\"type\":\"question\",\"id\":55493026,\"title\":\"你们都是怎么学 Python 的？\",\"question_type\":\"normal\",\"created\":1486390229,\"updated_time\":1582533957,\"url\":\"https://www.zhihu.com/api/v4/questions/55493026\",\"relationship\":{}},\"author\":{\"id\":\"1ab00059f301920f1dae9d92386937e6\",\"url_token\":\"zhi-hu-ke-tang\",\"name\":\"知乎课堂\",\"avatar_url\":\"https://pic4.zhimg.com/v2-7e2770be649e098dd01dd69116c2c8d6_is.jpg\",\"avatar_url_template\":\"https://pic4.zhimg.com/v2-7e2770be649e098dd01dd69116c2c8d6_{size}.jpg\",\"is_org\":true,\"type\":\"people\",\"url\":\"https://www.zhihu.com/api/v4/people/1ab00059f301920f1dae9d92386937e6\",\"user_type\":\"organization\",\"headline\":\"欢迎关注公众号：知乎职场圈，每天解锁一个新技能。\",\"badge\":[{\"type\":\"identity\",\"description\":\"已认证的官方帐号\",\"topics\":[]}],\"badge_v2\":{\"title\":\"已认证的官方帐号\",\"merged_badges\":[{\"type\":\"identity\",\"detail_type\":\"identity\",\"title\":\"认证\",\"description\":\"已认证的官方帐号\",\"url\":\"https://www.zhihu.com/account/verification/intro\",\"sources\":[]}],\"detail_badges\":[{\"type\":\"identity\",\"detail_type\":\"identity_org\",\"title\":\"已认证的官方帐号\",\"description\":\"已认证的官方帐号\",\"url\":\"https://www.zhihu.com/account/verification/intro\",\"sources\":[]}]},\"gender\":-1,\"is_advertiser\":true,\"is_privacy\":false},\"url\":\"https://www.zhihu.com/api/v4/answers/1106818911\",\"is_collapsed\":false,\"created_time\":1585227854,\"updated_time\":1585227854,\"extras\":\"\",\"is_copyable\":false,\"relationship\":{\"upvoted_followees\":[]},\"ad_answer\":null},{\"id\":163537026,\"type\":\"answer\",\"answer_type\":\"normal\",\"question\":{\"type\":\"question\",\"id\":55493026,\"title\":\"你们都是怎么学 Python 的？\",\"question_type\":\"normal\",\"created\":1486390229,\"updated_time\":1582533957,\"url\":\"https://www.zhihu.com/api/v4/questions/55493026\",\"relationship\":{}},\"author\":{\"id\":\"eaf435b228ce0b038a4afe8203f59b49\",\"url_token\":\"sgai\",\"name\":\"路人甲\",\"avatar_url\":\"https://pic3.zhimg.com/958a18f3216805bed269d158fb83325a_is.jpg\",\"avatar_url_template\":\"https://pic3.zhimg.com/958a18f3216805bed269d158fb83325a_{size}.jpg\",\"is_org\":false,\"type\":\"people\",\"url\":\"https://www.zhihu.com/api/v4/people/eaf435b228ce0b038a4afe8203f59b49\",\"user_type\":\"people\",\"headline\":\"微信公众号：路人甲TM，微信：thisnozy\",\"badge\":[],\"badge_v2\":{\"title\":\"\",\"merged_badges\":[],\"detail_badges\":[]},\"gender\":1,\"is_advertiser\":false,\"is_privacy\":false},\"url\":\"https://www.zhihu.com/api/v4/answers/163537026\",\"is_collapsed\":false,\"created_time\":1493693113,\"updated_time\":1579138388,\"extras\":\"\",\"is_copyable\":true,\"relationship\":{\"upvoted_followees\":[]},\"ad_answer\":null},{\"id\":873825546,\"type\":\"answer\",\"answer_type\":\"normal\",\"question\":{\"type\":\"question\",\"id\":55493026,\"title\":\"你们都是怎么学 Python 的？\",\"question_type\":\"normal\",\"created\":1486390229,\"updated_time\":1582533957,\"url\":\"https://www.zhihu.com/api/v4/questions/55493026\",\"relationship\":{}},\"author\":{\"id\":\"4d1c2c77bc7431c2a6006d154198e8b9\",\"url_token\":\"ji-de-yao-xing-fu\",\"name\":\"痴海\",\"avatar_url\":\"https://pic3.zhimg.com/v2-f9642b41b7729c029c6c7978c4c019e8_is.jpg\",\"avatar_url_template\":\"https://pic3.zhimg.com/v2-f9642b41b7729c029c6c7978c4c019e8_{size}.jpg\",\"is_org\":false,\"type\":\"people\",\"url\":\"https://www.zhihu.com/api/v4/people/4d1c2c77bc7431c2a6006d154198e8b9\",\"user_type\":\"people\",\"headline\":\"公众号「痴海」: 一起向上成长，成为一个厉害的人\",\"badge\":[],\"badge_v2\":{\"title\":\"\",\"merged_badges\":[],\"detail_badges\":[]},\"gender\":1,\"is_advertiser\":false,\"is_privacy\":false},\"url\":\"https://www.zhihu.com/api/v4/answers/873825546\",\"is_collapsed\":false,\"created_time\":1572318426,\"updated_time\":1587220473,\"extras\":\"\",\"is_copyable\":false,\"relationship\":{\"upvoted_followees\":[]},\"ad_answer\":null}],\"paging\":{\"is_end\":false,\"is_start\":true,\"next\":\"https://www.zhihu.com/api/v4/questions/55493026/answers?limit=5\\\\u0026offset=5\",\"previous\":\"https://www.zhihu.com/api/v4/questions/55493026/answers?limit=5\\\\u0026offset=0\",\"totals\":602}}\\n'"
      ]
     },
     "execution_count": 11,
     "metadata": {},
     "output_type": "execute_result"
    }
   ],
   "source": [
    "import requests\n",
    "# 定義標頭檔內容\n",
    "headers = {'user-agent': 'my-app/0.01'}\n",
    "r = requests.get('https://www.zhihu.com/api/v4/questions/55493026/answers',headers=headers)\n",
    "response = r.text\n",
    "response"
   ]
  },
  {
   "cell_type": "code",
   "execution_count": 3,
   "metadata": {},
   "outputs": [
    {
     "name": "stdout",
     "output_type": "stream",
     "text": [
      "id\n",
      "type\n",
      "answer_type\n",
      "question\n",
      "author\n",
      "url\n",
      "is_collapsed\n",
      "created_time\n",
      "updated_time\n",
      "extras\n",
      "is_copyable\n",
      "relationship\n",
      "ad_answer\n"
     ]
    }
   ],
   "source": [
    "import requests\n",
    "headers = {'user-agent': 'my-app/0.0.1'}\n",
    "r = requests.get('https://www.zhihu.com/api/v4/questions/55493026/answers',headers=headers)\n",
    "response = r.text\n",
    "\n",
    "\n",
    "import json\n",
    "data = json.loads(response)\n",
    "\n",
    "for d in data['data'][0]:\n",
    "    print(d)"
   ]
  },
  {
   "cell_type": "code",
   "execution_count": 15,
   "metadata": {},
   "outputs": [
    {
     "name": "stdout",
     "output_type": "stream",
     "text": [
      "1486390229\n",
      "2017-02-06 22:10:29\n"
     ]
    }
   ],
   "source": [
    "import requests\n",
    "import json\n",
    "headers = {'user-agent': 'my-app/0.0.1'}\n",
    "r = requests.get('https://www.zhihu.com/api/v4/questions/55493026/answers',headers=headers)\n",
    "response = r.text\n",
    "\n",
    "data = json.loads(response)\n",
    "time=data['data'][0]['question']['created']\n",
    "print (time)\n",
    "\n",
    "#補充: Timestamp 轉成 時間\n",
    "from datetime import datetime\n",
    "\n",
    "question_time_date = datetime.fromtimestamp(time)\n",
    "print(question_time_date)"
   ]
  },
  {
   "cell_type": "code",
   "execution_count": 20,
   "metadata": {},
   "outputs": [
    {
     "name": "stdout",
     "output_type": "stream",
     "text": [
      "1557824412\n",
      "1572318426\n",
      "2019-05-14 17:00:12\n",
      "2019-10-29 11:07:06\n"
     ]
    }
   ],
   "source": [
    "import requests\n",
    "import json\n",
    "headers = {'user-agent': 'my-app/0.0.1'}\n",
    "r = requests.get('https://www.zhihu.com/api/v4/questions/55493026/answers',headers=headers)\n",
    "response = r.text\n",
    "\n",
    "data = json.loads(response)\n",
    "count=0\n",
    "for row in data['data']:\n",
    "    count=count+1\n",
    "#print (count)\n",
    "time=data['data'][1]['created_time']\n",
    "print (time)\n",
    "time2=data['data'][4]['created_time']\n",
    "print (time2)\n",
    "from datetime import datetime\n",
    "\n",
    "question_time_date = datetime.fromtimestamp(time)\n",
    "print(question_time_date)\n",
    "question_time_date = datetime.fromtimestamp(time2)\n",
    "print(question_time_date)"
   ]
  },
  {
   "cell_type": "code",
   "execution_count": null,
   "metadata": {},
   "outputs": [],
   "source": []
  },
  {
   "cell_type": "code",
   "execution_count": null,
   "metadata": {},
   "outputs": [],
   "source": []
  },
  {
   "cell_type": "code",
   "execution_count": null,
   "metadata": {},
   "outputs": [],
   "source": []
  }
 ],
 "metadata": {
  "kernelspec": {
   "display_name": "Python 3",
   "language": "python",
   "name": "python3"
  },
  "language_info": {
   "codemirror_mode": {
    "name": "ipython",
    "version": 3
   },
   "file_extension": ".py",
   "mimetype": "text/x-python",
   "name": "python",
   "nbconvert_exporter": "python",
   "pygments_lexer": "ipython3",
   "version": "3.7.6"
  }
 },
 "nbformat": 4,
 "nbformat_minor": 4
}
